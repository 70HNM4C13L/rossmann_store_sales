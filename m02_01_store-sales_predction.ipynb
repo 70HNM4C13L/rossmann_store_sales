{
 "cells": [
  {
   "cell_type": "markdown",
   "id": "275120e5",
   "metadata": {},
   "source": [
    "# 0.0 IMPORTS\n"
   ]
  },
  {
   "cell_type": "code",
   "execution_count": 46,
   "id": "bafde92e",
   "metadata": {},
   "outputs": [],
   "source": [
    "import pandas as pd\n",
    "import inflection"
   ]
  },
  {
   "cell_type": "markdown",
   "id": "db0c740b",
   "metadata": {},
   "source": [
    "## 0.1 HELPER FUNCTIONS"
   ]
  },
  {
   "cell_type": "markdown",
   "id": "5060b5aa",
   "metadata": {},
   "source": [
    "## 0.2 LOAD DATA"
   ]
  },
  {
   "cell_type": "code",
   "execution_count": 33,
   "id": "c91f4891",
   "metadata": {},
   "outputs": [],
   "source": [
    "df_sales_raw = pd.read_csv('train.csv', low_memory = False)\n",
    "df_store_raw = pd.read_csv('store.csv', low_memory = False)\n",
    "df_raw = pd.merge(df_sales_raw, df_store_raw, how='left', on = 'Store')"
   ]
  },
  {
   "cell_type": "markdown",
   "id": "dcf4a5c7",
   "metadata": {},
   "source": [
    "# 1.0 DATA DESCRIPT"
   ]
  },
  {
   "cell_type": "code",
   "execution_count": 37,
   "id": "10dbf9f5",
   "metadata": {},
   "outputs": [],
   "source": [
    "df1 = df_raw.copy()"
   ]
  },
  {
   "cell_type": "markdown",
   "id": "1df9c247",
   "metadata": {},
   "source": [
    "## 1.1 RENAME COLUMNS\n",
    "\n"
   ]
  },
  {
   "cell_type": "code",
   "execution_count": null,
   "id": "a39b1afa",
   "metadata": {},
   "outputs": [],
   "source": [
    "cols_old = ['Store', 'DayOfWeek', 'Date', 'Sales', 'Customers', 'Open', 'Promo','StateHoliday',\n",
    "            'SchoolHoliday', 'StoreType', 'Assortment','CompetitionDistance',\n",
    "            'CompetitionOpenSinceMonth','CompetitionOpenSinceYear',  \n",
    "            'Promo2', 'Promo2SinceWeek','Promo2SinceYear', 'PromoInterval']\n",
    "snakecase = lambda x : inflection.underscore(x)\n",
    "cols_new = list(map(snakecase, cols_old))\n",
    "df1cols_new"
   ]
  },
  {
   "cell_type": "markdown",
   "id": "a35dc7f0",
   "metadata": {},
   "source": [
    "## 1.2 DATA DIMENSIONS\n"
   ]
  },
  {
   "cell_type": "code",
   "execution_count": null,
   "id": "86631615",
   "metadata": {},
   "outputs": [],
   "source": []
  },
  {
   "cell_type": "markdown",
   "id": "ef19e9fe",
   "metadata": {},
   "source": [
    "##\n"
   ]
  },
  {
   "cell_type": "markdown",
   "id": "9315483f",
   "metadata": {},
   "source": [
    "##\n"
   ]
  },
  {
   "cell_type": "markdown",
   "id": "ff175bc8",
   "metadata": {},
   "source": [
    "##\n"
   ]
  },
  {
   "cell_type": "markdown",
   "id": "f7084bb6",
   "metadata": {},
   "source": [
    "##\n"
   ]
  }
 ],
 "metadata": {
  "kernelspec": {
   "display_name": "Python 3 (ipykernel)",
   "language": "python",
   "name": "python3"
  },
  "language_info": {
   "codemirror_mode": {
    "name": "ipython",
    "version": 3
   },
   "file_extension": ".py",
   "mimetype": "text/x-python",
   "name": "python",
   "nbconvert_exporter": "python",
   "pygments_lexer": "ipython3",
   "version": "3.10.4"
  }
 },
 "nbformat": 4,
 "nbformat_minor": 5
}
